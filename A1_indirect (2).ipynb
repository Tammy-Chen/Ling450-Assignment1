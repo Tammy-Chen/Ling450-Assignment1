{
 "cells": [
  {
   "cell_type": "markdown",
   "id": "71668e51",
   "metadata": {},
   "source": [
    "# Ling 450/807 SFU - Assignment 1: Indirect Quotes\n",
    "\n",
    "This notebook presents a method for extracting indirect quotes and provides an assessment of the method's performance. "
   ]
  },
  {
   "cell_type": "markdown",
   "id": "8eec0643",
   "metadata": {},
   "source": [
    "## Import packages"
   ]
  },
  {
   "cell_type": "code",
   "execution_count": 7,
   "id": "60c17c30",
   "metadata": {},
   "outputs": [],
   "source": [
    "import spacy\n",
    "import re\n",
    "from spacy.matcher import Matcher\n",
    "from spacy import displacy\n",
    "nlp = spacy.load(\"en_core_web_sm\")"
   ]
  },
  {
   "cell_type": "markdown",
   "id": "ef90be37-cd8c-4a92-b640-abeae91ae0ee",
   "metadata": {},
   "source": [
    "## Reading Input and Data Cleaning"
   ]
  },
  {
   "cell_type": "code",
   "execution_count": 8,
   "id": "db628bdb",
   "metadata": {},
   "outputs": [],
   "source": [
    "def find_sents(text):\n",
    "    doc = nlp(text)\n",
    "    sentences = list(doc.sents)\n",
    "    return(sentences)"
   ]
  },
  {
   "cell_type": "code",
   "execution_count": null,
   "id": "320b72c1",
   "metadata": {},
   "outputs": [],
   "source": [
    "# reads in five files (selected from the direct quote assessment, for consistency)\n",
    "i = 1\n",
    "sents = {}\n",
    "while i <= 5: \n",
    "    with open (\"A1_5/File_{}.txt\".format(i), \"r\", encoding='utf-8') as f:\n",
    "        text = f.read()\n",
    "        doc = nlp(text)\n",
    "        sents['file_{}'.format(i)] = find_sents(doc)\n",
    "        i+=1"
   ]
  },
  {
   "cell_type": "code",
   "execution_count": 232,
   "id": "3399edc3-025e-4720-801d-949931d79478",
   "metadata": {},
   "outputs": [],
   "source": [
    "# 10 example sentences\n",
    "lst = ['She said he was late.', 'She told us she was late.', 'She said that she was late.', 'She told us that she was late.', \n",
    "        'She requested to leave.', 'She asked us to wait for her.', 'She was telling us about being late.', 'What she told us was that he was late.', \n",
    "        'That she was late is all he told us.', 'According to her, he was late.']\n",
    "\n",
    "# processing using nlp()\n",
    "test_sentences = [nlp(e) for e in lst]"
   ]
  },
  {
   "cell_type": "code",
   "execution_count": 233,
   "id": "5ee81944-6e68-4cd3-bd30-3d92a1ad1d10",
   "metadata": {},
   "outputs": [],
   "source": [
    "# # exploring dependency parsing\n",
    "# for t in test_sentences:\n",
    "#     displacy.render(t, style='dep', jupyter=True)"
   ]
  },
  {
   "cell_type": "markdown",
   "id": "0087321e",
   "metadata": {},
   "source": [
    "## Indirect Quotes\n"
   ]
  },
  {
   "cell_type": "code",
   "execution_count": 223,
   "id": "21e1bc18-9e5a-4e1b-9091-aa5ea3f5638d",
   "metadata": {},
   "outputs": [],
   "source": [
    "# preliminary list of reporting verbs (needs improvement)\n",
    "reporting_verbs = ['say', 'mention', 'claim', 'tell', 'argue', 'request', 'ask'] # indicate (how to improve\n",
    "\n",
    "def indirect_quotes(doc):\n",
    "    '''\n",
    "    input: Doc object\n",
    "    output: None\n",
    "\n",
    "    prints out the speaker and the indirect quote in each sentence, if both are present.\n",
    "    '''\n",
    "    for token in doc:\n",
    "        # removes quotes that have quotation marks in them, in order to account for direct quotes (THIS IS NOT A GOOD WAY TO DO IT)\n",
    "        if '\\\"' in doc.text or '\\'' in doc.text: \n",
    "                return\n",
    "        # identifies the speaker by checking whether a token is a subject and whether the head of that token is a reporting verb\n",
    "        if token.dep_ == 'nsubj' and token.head.lemma_ in reporting_verbs:\n",
    "            speaker = token\n",
    "        # identifies the complement clause of the reporting verb or the complement clause of the copula\n",
    "        if token.head.lemma_ in reporting_verbs + ['be'] and token.dep_ in [\"ccomp\", \"xcomp\", \"pcomp\"]:\n",
    "            quote = \" \".join([(t.text) for t in token.subtree])\n",
    "        # if an indirect quote has been found, the quote will be returned, and the other remaining tokens will not be looked at\n",
    "        try:\n",
    "            print(doc, '\\n', 'speaker:', speaker, '\\n', 'quote:', quote, '\\n\\n')\n",
    "            return\n",
    "        # if an indirect quote has not been found, the next token will be looked at\n",
    "        except:\n",
    "            pass"
   ]
  },
  {
   "cell_type": "markdown",
   "id": "03d5248c-b7e3-4bef-bcba-89e2b6126855",
   "metadata": {},
   "source": [
    "## Assessment"
   ]
  },
  {
   "cell_type": "markdown",
   "id": "27f3dfbe-00cd-41aa-a8ff-bef77908861d",
   "metadata": {},
   "source": [
    "### Test 1"
   ]
  },
  {
   "cell_type": "code",
   "execution_count": 230,
   "id": "c3a92c62-30d5-4a15-a103-704b02b9c376",
   "metadata": {
    "scrolled": true
   },
   "outputs": [
    {
     "name": "stdout",
     "output_type": "stream",
     "text": [
      "Scheer said he is confident the party has learned from that mistake \n",
      " speaker: Scheer \n",
      " quote: he is confident the party has learned from that mistake \n",
      "\n",
      "\n"
     ]
    }
   ],
   "source": [
    "doc = nlp(\"Scheer said he is confident the party has learned from that mistake\")\n",
    "indirect_quotes(doc)"
   ]
  },
  {
   "cell_type": "markdown",
   "id": "59280ae4-ad6f-4573-8daa-2f70aad68810",
   "metadata": {},
   "source": [
    "### Test 2"
   ]
  },
  {
   "cell_type": "markdown",
   "id": "ea835fd3-833d-45cf-be8a-2b2f455924dc",
   "metadata": {},
   "source": [
    "It correctly identifie the speaker and indirect quote for sentences, (1)-(6) and (8), as expected:"
   ]
  },
  {
   "cell_type": "code",
   "execution_count": 234,
   "id": "08e3788b-f2d2-4004-afb2-70050e11a2e3",
   "metadata": {},
   "outputs": [
    {
     "name": "stdout",
     "output_type": "stream",
     "text": [
      "She said he was late. \n",
      " speaker: She \n",
      " quote: he was late \n",
      "\n",
      "\n",
      "She told us she was late. \n",
      " speaker: She \n",
      " quote: she was late \n",
      "\n",
      "\n",
      "She said that she was late. \n",
      " speaker: She \n",
      " quote: that she was late \n",
      "\n",
      "\n",
      "She told us that she was late. \n",
      " speaker: She \n",
      " quote: that she was late \n",
      "\n",
      "\n",
      "She requested to leave. \n",
      " speaker: She \n",
      " quote: to leave \n",
      "\n",
      "\n",
      "She asked us to wait for her. \n",
      " speaker: She \n",
      " quote: to wait for her \n",
      "\n",
      "\n",
      "What she told us was that he was late. \n",
      " speaker: she \n",
      " quote: that he was late \n",
      "\n",
      "\n"
     ]
    }
   ],
   "source": [
    "for t in test_sentences:\n",
    "    indirect_quotes(t)"
   ]
  },
  {
   "cell_type": "markdown",
   "id": "f9012877-b5de-4287-9213-019c46a9100e",
   "metadata": {},
   "source": [
    "### Test 3"
   ]
  },
  {
   "cell_type": "markdown",
   "id": "3fef7bd7-7d43-400a-bf43-dcacd05a088d",
   "metadata": {},
   "source": [
    "test and explain!!"
   ]
  },
  {
   "cell_type": "code",
   "execution_count": 150,
   "id": "d051e9f6",
   "metadata": {},
   "outputs": [
    {
     "name": "stdout",
     "output_type": "stream",
     "text": [
      "file_1\n",
      "Kim and Clark Moran received a letter this week from Immigration, Refugees and Citizenship Canada informing them that the federal department has concerns about two-year-old Ayo, whom the couple claims they adopted from an orphanage in Nigeria and gained custody of in August. \n",
      "  \n",
      " speaker: couple \n",
      " quote: they adopted from an orphanage in Nigeria and gained custody of in August \n",
      "\n",
      "\n",
      "Kim said the family is working with an immigration lawyer as well as the adoption agency, whose name she would not reveal, as they weigh their options. \n",
      "  \n",
      " speaker: Kim \n",
      " quote: the family is working with an immigration lawyer as well as the adoption agency , whose name she would not reveal , as they weigh their options \n",
      "\n",
      "\n",
      "file_2\n",
      "Wang told reporters she believes she has what it takes to take on Singh, because she has lived in the riding for 20 years and has strong connections in the community. \n",
      "  \n",
      " speaker: Wang \n",
      " quote: she believes she has what it takes to take on Singh , because she has lived in the riding for 20 years and has strong connections in the community \n",
      "\n",
      "\n",
      "Wang said her top three priorities would be improving housing affordability by increasing supply, creating more jobs and improving public transit. \n",
      "  \n",
      " speaker: Wang \n",
      " quote: her top three priorities would be improving housing affordability by increasing supply , creating more jobs and improving public transit \n",
      "\n",
      "\n",
      "file_3\n",
      "Witnesses heard him tell Kody that he now owed him $7, in the same way someone might exchange a favour for a cup of coffee. \n",
      "  \n",
      " speaker: him \n",
      " quote: that he now owed him $ 7 , \n",
      "\n",
      "\n",
      "Golden said she looked for the co-worker who shared prescription drugs with Kody to share responsibility. \n",
      " speaker: Golden \n",
      " quote: she looked for the co - worker who shared prescription drugs with Kody to share responsibility \n",
      "\n",
      "\n",
      "Dr. Matthew Bowes, chief medical examiner of Nova Scotia, says he has seen that mixing benzodiazepines with opioids can increase the risk of death by intoxication. \n",
      " speaker: Bowes \n",
      " quote: he has seen that mixing benzodiazepines with opioids can increase the risk of death by intoxication \n",
      "\n",
      "\n",
      "Ernie LeBlanc, father of Jason LeBlanc, 42, says his son long battled addiction before his overdose death in a Cape Breton Correctional Facility cell. \n",
      " speaker: LeBlanc \n",
      " quote: his son long battled addiction before his overdose death in a Cape Breton Correctional Facility cell \n",
      "\n",
      "\n",
      "His father, Ernie LeBlanc, says his 42-year-old son suffered bouts of severe anxiety related to his long struggle with an opioid addiction that had started when he worked in the West. \n",
      " speaker: father \n",
      " quote: his 42 - year - old son suffered bouts of severe anxiety related to his long struggle with an opioid addiction that had started when he worked in the West \n",
      "\n",
      "\n",
      "file_4\n",
      "Marc Garneau said in a statement late Friday that the order is a precaution until the cause of the derailment is determined. \n",
      " speaker: Garneau \n",
      " quote: that the order is a precaution until the cause of the derailment is determined \n",
      "\n",
      "\n",
      "The Transportation Safety Board has said handbrakes were not applied. \n",
      "  \n",
      " speaker: Board \n",
      " quote: handbrakes were not applied \n",
      "\n",
      "\n",
      "C to ensure pressure remains consistent throughout their entire length, the report said. \n",
      "  \n",
      " speaker: report \n",
      " quote: C to ensure pressure remains consistent throughout their entire length \n",
      "\n",
      "\n",
      "A union representative has said the derailed train was shorter than the 135 cars CP has run in recent years. \n",
      " speaker: representative \n",
      " quote: the derailed train was shorter than the 135 cars CP has run in recent years \n",
      "\n",
      "\n",
      "But a veteran Boston-based engineer said 112 cars is large for a train of full grain hoppers. \n",
      "  \n",
      " speaker: engineer \n",
      " quote: 112 cars is large for a train of full grain hoppers \n",
      "\n",
      "\n",
      "Mulligan said it would have taken a lot of handbrakes to hold back a train so big. \n",
      " speaker: Mulligan \n",
      " quote: it would have taken a lot of handbrakes to hold back a train so big \n",
      "\n",
      "\n",
      "The Calgary-based railway said in the report that it also places locomotives at different points along a train in the winter. \n",
      " speaker: railway \n",
      " quote: that it also places locomotives at different points along a train in the winter \n",
      "\n",
      "\n",
      "In extreme cold, dryers are used to prevent moisture from getting into the brakes, which means it takes longer to pressurize them and do the required safety checks, said the winter railroading report. \n",
      "  \n",
      " speaker: report \n",
      " quote: In extreme cold , dryers are used to prevent moisture from getting into the brakes , which means it takes longer to pressurize them and do the required safety checks \n",
      "\n",
      "\n",
      "The white paper also said train speeds must be reduced in frigid temperatures — by at least 16 km/h below -25 C and by at least 32 km/h at -35 C. \n",
      " Will Young, a locomotive mechanic based in Kansas City, Mo., and an organizer at Railroad Workers United, said cold weather takes a toll on many train components. \n",
      "  \n",
      " speaker: paper \n",
      " quote: The white paper also said train speeds must be reduced in frigid temperatures — by at least 16 km / h below -25 C and by at least 32 km / h at -35 \n",
      "\n",
      "\n",
      "Young said he suspects some sort of mechanical issue caused the braking system to lose power. \n",
      " speaker: Young \n",
      " quote: he suspects some sort of mechanical issue caused the braking system to lose power \n",
      "\n",
      "\n",
      "file_5\n",
      "It saves families thousands of dollars a year in child-care costs, but it costs the province $1.5-billion a year, at a time when the government is grappling with what it says is a $14.5 billion deficit. \n",
      "  \n",
      " speaker: it \n",
      " quote: what is a $ 14.5 billion deficit \n",
      "\n",
      "\n"
     ]
    }
   ],
   "source": [
    "for file in sents.keys():\n",
    "    print(file)\n",
    "    for sent in sents[file]:\n",
    "        indirect_quotes(sent)"
   ]
  },
  {
   "cell_type": "markdown",
   "id": "402877ce",
   "metadata": {},
   "source": [
    "\n",
    "\n",
    "# Indirect Quotes without reporting verbs"
   ]
  },
  {
   "cell_type": "code",
   "execution_count": 17,
   "id": "95688ab3",
   "metadata": {},
   "outputs": [],
   "source": [
    "i = 1\n",
    "sents = {}\n",
    "while i <= 5: \n",
    "    with open(f\"A1_data/file_1.txt\", \"r\", encoding='utf-8') as f:\n",
    "        text = f.read()\n",
    "        doc = nlp(text)\n",
    "        sents['file_{}'.format(i)] = find_sents(doc)\n",
    "        i+=1"
   ]
  },
  {
   "cell_type": "code",
   "execution_count": 46,
   "id": "6b307c7a",
   "metadata": {},
   "outputs": [],
   "source": [
    "def indirect_quotes_no_reporting_verbs(doc):\n",
    "    \n",
    "    for token in doc:\n",
    "        speaker, quote = None, None\n",
    "        \n",
    "        # identifies \"According to\" \n",
    "        if token.text.lower() == \"according\" and token.nbor(1).text.lower() == \"to\":\n",
    "            speaker = token.nbor(2)  \n",
    "            quote_start = token.i + 4  \n",
    "            quote = \" \".join([t.text for t in doc[quote_start:]])\n",
    "\n",
    "        # identifies \"that\"\n",
    "        if token.text.lower() == \"that\" and token.dep_ == \"mark\":\n",
    "            speaker = token.nbor(-1)\n",
    "            quote_start = token.i + 1  \n",
    "            quote = \" \".join([t.text for t in doc[quote_start:]])\n",
    "\n",
    "\n",
    "        # identifies subject + complement \n",
    "        if token.dep_ == \"nsubj\" and token.head.dep_ in [\"ROOT\", \"cop\"]:\n",
    "            speaker = token\n",
    "            quote_start = token.i + 3\n",
    "            quote = \" \".join([t.text for t in doc[quote_start:]])\n",
    "\n",
    "        if speaker and quote:\n",
    "            print(doc, '\\n', 'speaker:', speaker.text, '\\n', 'quote:', quote, '\\n\\n')\n",
    "            return\n",
    "\n"
   ]
  },
  {
   "cell_type": "markdown",
   "id": "b2a31f9e",
   "metadata": {},
   "source": [
    "Test 1"
   ]
  },
  {
   "cell_type": "code",
   "execution_count": 52,
   "id": "0131c84c",
   "metadata": {},
   "outputs": [],
   "source": [
    "test_sentences =[\n",
    "    \"According to Kim, the Canadian high commission in Nigeria doesn't have an immigration office, so all adoptions out of that country have to be processed in Ghana. \",\n",
    "    \"The fact that we are being accused right now of an unethical adoption is crazy\",\n",
    "    \"An Abbotsford, B.C. couple that has been waiting nearly two years to bring their newly adopted son home from Africa has learned that the Canadian government is not prepared to grant the child citizenship. \"]"
   ]
  },
  {
   "cell_type": "code",
   "execution_count": 53,
   "id": "0be15f60",
   "metadata": {},
   "outputs": [
    {
     "name": "stdout",
     "output_type": "stream",
     "text": [
      "According to Kim, the Canadian high commission in Nigeria doesn't have an immigration office, so all adoptions out of that country have to be processed in Ghana.  \n",
      " speaker: Kim \n",
      " quote: the Canadian high commission in Nigeria does n't have an immigration office , so all adoptions out of that country have to be processed in Ghana . \n",
      "\n",
      "\n",
      "The fact that we are being accused right now of an unethical adoption is crazy \n",
      " speaker: fact \n",
      " quote: are being accused right now of an unethical adoption is crazy \n",
      "\n",
      "\n",
      "An Abbotsford, B.C. couple that has been waiting nearly two years to bring their newly adopted son home from Africa has learned that the Canadian government is not prepared to grant the child citizenship.  \n",
      " speaker: couple \n",
      " quote: been waiting nearly two years to bring their newly adopted son home from Africa has learned that the Canadian government is not prepared to grant the child citizenship . \n",
      "\n",
      "\n"
     ]
    }
   ],
   "source": [
    "test_docs = [nlp(sent) for sent in test_sentences]\n",
    "for doc in test_docs:\n",
    "    indirect_quotes_no_reporting_verbs(doc)"
   ]
  },
  {
   "cell_type": "code",
   "execution_count": 54,
   "id": "bc3bb3b5",
   "metadata": {},
   "outputs": [
    {
     "name": "stdout",
     "output_type": "stream",
     "text": [
      "file_1\n",
      "An Abbotsford, B.C. couple that has been waiting nearly two years to bring their newly adopted son home from Africa has learned that the Canadian government is not prepared to grant the child citizenship. \n",
      "  \n",
      " speaker: Abbotsford \n",
      " quote: nearly two years to bring their newly adopted son home from Africa has learned that the Canadian government is not prepared to grant the child citizenship . \n",
      "  \n",
      "\n",
      "\n",
      "Kim and Clark Moran received a letter this week from Immigration, Refugees and Citizenship Canada informing them that the federal department has concerns about two-year-old Ayo, whom the couple claims they adopted from an orphanage in Nigeria and gained custody of in August. \n",
      "  \n",
      " speaker: Kim \n",
      " quote: custody of in August . \n",
      "  \n",
      "\n",
      "\n",
      "file_2\n",
      "An Abbotsford, B.C. couple that has been waiting nearly two years to bring their newly adopted son home from Africa has learned that the Canadian government is not prepared to grant the child citizenship. \n",
      "  \n",
      " speaker: Abbotsford \n",
      " quote: nearly two years to bring their newly adopted son home from Africa has learned that the Canadian government is not prepared to grant the child citizenship . \n",
      "  \n",
      "\n",
      "\n",
      "Kim and Clark Moran received a letter this week from Immigration, Refugees and Citizenship Canada informing them that the federal department has concerns about two-year-old Ayo, whom the couple claims they adopted from an orphanage in Nigeria and gained custody of in August. \n",
      "  \n",
      " speaker: Kim \n",
      " quote: custody of in August . \n",
      "  \n",
      "\n",
      "\n",
      "file_3\n",
      "An Abbotsford, B.C. couple that has been waiting nearly two years to bring their newly adopted son home from Africa has learned that the Canadian government is not prepared to grant the child citizenship. \n",
      "  \n",
      " speaker: Abbotsford \n",
      " quote: nearly two years to bring their newly adopted son home from Africa has learned that the Canadian government is not prepared to grant the child citizenship . \n",
      "  \n",
      "\n",
      "\n",
      "Kim and Clark Moran received a letter this week from Immigration, Refugees and Citizenship Canada informing them that the federal department has concerns about two-year-old Ayo, whom the couple claims they adopted from an orphanage in Nigeria and gained custody of in August. \n",
      "  \n",
      " speaker: Kim \n",
      " quote: custody of in August . \n",
      "  \n",
      "\n",
      "\n",
      "file_4\n",
      "An Abbotsford, B.C. couple that has been waiting nearly two years to bring their newly adopted son home from Africa has learned that the Canadian government is not prepared to grant the child citizenship. \n",
      "  \n",
      " speaker: Abbotsford \n",
      " quote: nearly two years to bring their newly adopted son home from Africa has learned that the Canadian government is not prepared to grant the child citizenship . \n",
      "  \n",
      "\n",
      "\n",
      "Kim and Clark Moran received a letter this week from Immigration, Refugees and Citizenship Canada informing them that the federal department has concerns about two-year-old Ayo, whom the couple claims they adopted from an orphanage in Nigeria and gained custody of in August. \n",
      "  \n",
      " speaker: Kim \n",
      " quote: custody of in August . \n",
      "  \n",
      "\n",
      "\n",
      "file_5\n",
      "An Abbotsford, B.C. couple that has been waiting nearly two years to bring their newly adopted son home from Africa has learned that the Canadian government is not prepared to grant the child citizenship. \n",
      "  \n",
      " speaker: Abbotsford \n",
      " quote: nearly two years to bring their newly adopted son home from Africa has learned that the Canadian government is not prepared to grant the child citizenship . \n",
      "  \n",
      "\n",
      "\n",
      "Kim and Clark Moran received a letter this week from Immigration, Refugees and Citizenship Canada informing them that the federal department has concerns about two-year-old Ayo, whom the couple claims they adopted from an orphanage in Nigeria and gained custody of in August. \n",
      "  \n",
      " speaker: Kim \n",
      " quote: custody of in August . \n",
      "  \n",
      "\n",
      "\n"
     ]
    }
   ],
   "source": [
    "for file in sents.keys():\n",
    "    print(file)\n",
    "    for sent in sents[file]:\n",
    "        indirect_quotes_no_reporting_verbs(sent)\n"
   ]
  },
  {
   "cell_type": "code",
   "execution_count": null,
   "id": "f26b0da9",
   "metadata": {},
   "outputs": [],
   "source": []
  }
 ],
 "metadata": {
  "kernelspec": {
   "display_name": "Python 3 (ipykernel)",
   "language": "python",
   "name": "python3"
  },
  "language_info": {
   "codemirror_mode": {
    "name": "ipython",
    "version": 3
   },
   "file_extension": ".py",
   "mimetype": "text/x-python",
   "name": "python",
   "nbconvert_exporter": "python",
   "pygments_lexer": "ipython3",
   "version": "3.11.4"
  }
 },
 "nbformat": 4,
 "nbformat_minor": 5
}
